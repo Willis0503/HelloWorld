{
 "cells": [
  {
   "cell_type": "markdown",
   "id": "ce1827dd-eab3-40d2-822c-e1de84637ec1",
   "metadata": {},
   "source": [
    "# Data Science Tools and Ecosystem"
   ]
  },
  {
   "cell_type": "markdown",
   "id": "858fdd11-1c87-491d-bb3d-4d1201c30a94",
   "metadata": {},
   "source": [
    "Some of the popular languages that Data Scientists use are:\n",
    "1. Python\n",
    "2. SQL\n",
    "3. SQLite\n",
    "4. R"
   ]
  },
  {
   "cell_type": "markdown",
   "id": "4af32a5e-4a2e-4758-9279-5c68de35a14c",
   "metadata": {},
   "source": [
    "In this notebook, Data Science Tools and Ecosystem are summarized."
   ]
  },
  {
   "cell_type": "markdown",
   "id": "2c37673f-a509-41ed-87ac-c96380510d41",
   "metadata": {},
   "source": [
    "**Objectives:**\n",
    "- Popular Languages used in Data Science\n",
    "- Popular Environments used in Data Science\n",
    "- Popular Libraries Used in Data Science\n",
    "- Use ordered/unordered list, bold text, and tables in a markdown cell\n"
   ]
  },
  {
   "cell_type": "markdown",
   "id": "7621c18e-247f-40a6-9b12-5e5706649211",
   "metadata": {},
   "source": [
    "Some of the commonly used libraries used by Data Scientists include:\n",
    "1. Matplotlib\n",
    "2. Seaborn\n",
    "3. ggplot2"
   ]
  },
  {
   "cell_type": "markdown",
   "id": "14a3355a-5063-403d-8d72-2bb95117928f",
   "metadata": {},
   "source": [
    "# Data Science Tools\n",
    "\n",
    "|Data Science Tools|\n",
    "|--------|\n",
    "|VSCode|\n",
    "|Jupiter Notebook|\n",
    "|RStudio|\n",
    "|Apache Zeppelin|\n"
   ]
  },
  {
   "cell_type": "markdown",
   "id": "56a0ae14-6de3-4bdf-aa05-7730623bdb94",
   "metadata": {},
   "source": [
    "### Below are a few examples of evaluating arithmetic expressions in Python.\n",
    "\n"
   ]
  },
  {
   "cell_type": "code",
   "execution_count": 1,
   "id": "eb9e9cc5-d1c1-4e29-8da0-b5ca25212880",
   "metadata": {},
   "outputs": [
    {
     "data": {
      "text/plain": [
       "17"
      ]
     },
     "execution_count": 1,
     "metadata": {},
     "output_type": "execute_result"
    }
   ],
   "source": [
    "#This a simple arithmetic expression to mutiply then add integers\n",
    "(3*4)+5"
   ]
  },
  {
   "cell_type": "code",
   "execution_count": 2,
   "id": "2585119c-ede7-4765-bde8-73ddd48244eb",
   "metadata": {},
   "outputs": [
    {
     "name": "stdout",
     "output_type": "stream",
     "text": [
      "3.3333333333333335\n"
     ]
    }
   ],
   "source": [
    "#This will convert 200 minutes to hours by diving by 60\n",
    "print(200/60)"
   ]
  },
  {
   "cell_type": "markdown",
   "id": "abd4521c-07a7-482f-a3b9-d87cc1bf4efa",
   "metadata": {},
   "source": [
    "## Author\n",
    "Truong Ngo"
   ]
  },
  {
   "cell_type": "code",
   "execution_count": null,
   "id": "107ca1b3-0ad5-4d4d-b35b-23bfc0ff09b5",
   "metadata": {},
   "outputs": [],
   "source": []
  }
 ],
 "metadata": {
  "kernelspec": {
   "display_name": "Python 3 (ipykernel)",
   "language": "python",
   "name": "python3"
  },
  "language_info": {
   "codemirror_mode": {
    "name": "ipython",
    "version": 3
   },
   "file_extension": ".py",
   "mimetype": "text/x-python",
   "name": "python",
   "nbconvert_exporter": "python",
   "pygments_lexer": "ipython3",
   "version": "3.11.9"
  }
 },
 "nbformat": 4,
 "nbformat_minor": 5
}
